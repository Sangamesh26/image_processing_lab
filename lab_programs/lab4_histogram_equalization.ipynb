{
 "cells": [
  {
   "cell_type": "code",
   "execution_count": 1,
   "metadata": {},
   "outputs": [
    {
     "data": {
      "image/png": "[encoded data removed]",
      "text/plain": [
       "<Figure size 432x288 with 1 Axes>"
      ]
     },
     "metadata": {
      "needs_background": "light"
     },
     "output_type": "display_data"
    },
    {
     "data": {
      "image/png": "[encoded data removed]",
      "text/plain": [
       "<Figure size 432x288 with 1 Axes>"
      ]
     },
     "metadata": {
      "needs_background": "light"
     },
     "output_type": "display_data"
    }
   ],
   "source": [
    "from PIL import Image\n",
    "import numpy as np\n",
    "import matplotlib.pyplot as plt\n",
    "import os\n",
    "\n",
    "def histogram_equilization(img):\n",
    "    #read image and convert to 2D array\n",
    "    with Image.open(img) as img:\n",
    "        img_size = img.size\n",
    "        img_arr = np.array(img, dtype=np.uint8)\n",
    "        img.show()\n",
    "\n",
    "    plt.hist(img_arr.flatten(), bins = 256) #histogram before equalization\n",
    "    plt.show()\n",
    "    #initialise array with size 256 to 0\n",
    "    arr = np.zeros(256)\n",
    "\n",
    "    #count number of pixels in each intensity i.e. nk\n",
    "    for i in range(img_size[1]):\n",
    "        for j in range(img_size[0]):\n",
    "            arr[img_arr[i][j]] = arr[img_arr[i][j]]+1\n",
    "\n",
    "    #find probabilities of pixels in each intensity i.e. nk/(M*N)\n",
    "    arr = arr/(img_size[1]*img_size[0])\n",
    "\n",
    "    #find cumilative values i.e. Cm\n",
    "    for i in range(1,256):\n",
    "        arr[i] = arr[i-1]+arr[i]\n",
    "\n",
    "    #multiply by highest intensity i.e. 255 and round off values\n",
    "    arr = np.round(arr*255)\n",
    "\n",
    "    result = np.zeros((img_size[1],img_size[0]), dtype=np.uint8)\n",
    "    #assign equilized intensities to image and save\n",
    "    for i in range(img_size[1]):\n",
    "        for j in range(img_size[0]):\n",
    "            result[i][j] = arr[img_arr[i][j]]\n",
    "\n",
    "    result_img = Image.fromarray(result)\n",
    "    result_img.save('histogram.tif')\n",
    "    \n",
    "    result_img.show()\n",
    "    plt.hist(result.flatten(), bins = 256) #histogram after equalization\n",
    "    plt.show()\n",
    "\n",
    "\n",
    "histogram_equilization(os.getcwd()+'/DIP3E_Original_Images_CH03/Fig0316(4)(bottom_left).tif')"
   ]
  },
  {
   "cell_type": "code",
   "execution_count": null,
   "metadata": {},
   "outputs": [],
   "source": []
  }
 ],
 "metadata": {
  "kernelspec": {
   "display_name": "Python 3",
   "language": "python",
   "name": "python3"
  },
  "language_info": {
   "codemirror_mode": {
    "name": "ipython",
    "version": 3
   },
   "file_extension": ".py",
   "mimetype": "text/x-python",
   "name": "python",
   "nbconvert_exporter": "python",
   "pygments_lexer": "ipython3",
   "version": "3.7.6"
  }
 },
 "nbformat": 4,
 "nbformat_minor": 4
}
